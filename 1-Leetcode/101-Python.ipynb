{
 "cells": [
  {
   "cell_type": "markdown",
   "metadata": {},
   "source": [
    "# Python"
   ]
  },
  {
   "cell_type": "markdown",
   "metadata": {},
   "source": [
    "## Why use self in Python class?\n",
    "Self represents the instance of the class. By using the “self” keyword we can access the attributes and methods of the class in python."
   ]
  },
  {
   "cell_type": "code",
   "execution_count": 4,
   "metadata": {},
   "outputs": [
    {
     "name": "stdout",
     "output_type": "stream",
     "text": [
      "Model is audi a4\n",
      "color is blue\n",
      "Model is ferrari 488\n",
      "color is green\n"
     ]
    }
   ],
   "source": [
    "class car(object): \n",
    "    # init method or constructor \n",
    "    def __init__(self, model, color): \n",
    "        self.model = model \n",
    "        self.color = color \n",
    "          \n",
    "    def show(self): \n",
    "        print(\"Model is\", self.model ) \n",
    "        print(\"color is\", self.color ) \n",
    "          \n",
    "# both objects have different self which  \n",
    "# contain their attributes \n",
    "audi = car(\"audi a4\", \"blue\") \n",
    "ferrari = car(\"ferrari 488\", \"green\") \n",
    "  \n",
    "audi.show()     # same output as car.show(audi) \n",
    "ferrari.show()  # same output as car.show(ferrari) "
   ]
  },
  {
   "cell_type": "code",
   "execution_count": 9,
   "metadata": {},
   "outputs": [
    {
     "name": "stdout",
     "output_type": "stream",
     "text": [
      "<class 'type'>\n",
      "<function animal.bark at 0x110e3c670>\n",
      "Wof..\n",
      "None\n"
     ]
    }
   ],
   "source": [
    "class animal(object): \n",
    "    def bark(self): \n",
    "        print(\"Wof..\" ) \n",
    "\n",
    "mydog = animal\n",
    "print(type(mydog))\n",
    "print(mydog.bark)\n",
    "mydog2 = animal()\n",
    "print(mydog2.bark())"
   ]
  },
  {
   "cell_type": "code",
   "execution_count": null,
   "metadata": {},
   "outputs": [],
   "source": [
    "import random\n",
    "class test():\n",
    "    def __init__(self, var1, var2):\n",
    "        self.var1 = random.randint()\n",
    "        self.var2 = random.randint()\n",
    "        self.ori = [self.var1, self.var2]\n",
    "        \n",
    "    def shuffle(self):\n",
    "        self.res = self.ori[:]\n",
    "        return self.ori"
   ]
  },
  {
   "cell_type": "code",
   "execution_count": null,
   "metadata": {},
   "outputs": [],
   "source": []
  }
 ],
 "metadata": {
  "kernelspec": {
   "display_name": "Python 3",
   "language": "python",
   "name": "python3"
  },
  "language_info": {
   "codemirror_mode": {
    "name": "ipython",
    "version": 3
   },
   "file_extension": ".py",
   "mimetype": "text/x-python",
   "name": "python",
   "nbconvert_exporter": "python",
   "pygments_lexer": "ipython3",
   "version": "3.8.2"
  }
 },
 "nbformat": 4,
 "nbformat_minor": 4
}
