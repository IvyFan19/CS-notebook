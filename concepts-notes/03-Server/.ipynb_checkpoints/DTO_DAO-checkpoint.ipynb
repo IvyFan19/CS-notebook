{
 "cells": [
  {
   "cell_type": "markdown",
   "metadata": {},
   "source": [
    "# Concepts"
   ]
  },
  {
   "cell_type": "markdown",
   "metadata": {},
   "source": [
    "### What is DTO?\n",
    "- Data Transfer Object\n",
    "- Object that will be used for exchange data between server and client. \n",
    "    \n",
    "    When we want to pass data with multiple attributes in one shot from client to server.\n",
    "- Ideally a POJO having getter /  setter methods\n",
    "- Good practice to add final to fields\n",
    "- Needed for serialization / deserialization, so that it can be transferred over the network\n",
    "- Used in conjunction with DAO, used to specify  “schema”"
   ]
  },
  {
   "cell_type": "markdown",
   "metadata": {},
   "source": [
    "### What is DAO?\n",
    "- Data Access Object\n",
    "- A type of object that abstracts the logic for persistent data, such as a database\n",
    "- App communicates with data through DAO instead of directly \n",
    "- Rest of the project does not have to worry about how to fetch data\n",
    "- Single way in and out"
   ]
  },
  {
   "cell_type": "markdown",
   "metadata": {},
   "source": [
    "### What is the difference between DAO and DTO?\n",
    "DAO is a class that usually has operations like save, update, delete. Whereas the DTO is just an object that holds data.\n",
    "\n",
    "DTO will be passed as value object to DAO layer and DAO layer will use this object to persist data using its CRUD operation methods."
   ]
  },
  {
   "cell_type": "code",
   "execution_count": null,
   "metadata": {},
   "outputs": [],
   "source": []
  }
 ],
 "metadata": {
  "kernelspec": {
   "display_name": "Python 3",
   "language": "python",
   "name": "python3"
  },
  "language_info": {
   "codemirror_mode": {
    "name": "ipython",
    "version": 3
   },
   "file_extension": ".py",
   "mimetype": "text/x-python",
   "name": "python",
   "nbconvert_exporter": "python",
   "pygments_lexer": "ipython3",
   "version": "3.8.2"
  }
 },
 "nbformat": 4,
 "nbformat_minor": 4
}
