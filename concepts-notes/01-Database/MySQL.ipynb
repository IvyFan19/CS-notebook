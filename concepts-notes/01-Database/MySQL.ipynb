{
 "cells": [
  {
   "cell_type": "markdown",
   "metadata": {},
   "source": [
    "# MySQL"
   ]
  },
  {
   "cell_type": "markdown",
   "metadata": {},
   "source": [
    "## Create database tables"
   ]
  },
  {
   "cell_type": "markdown",
   "metadata": {},
   "source": [
    "* You can create many database in a database server.\n",
    "* USE:  all the statement will base on 'csc317db'.\n",
    "* UNIQUE: duplicate information, for example name, is not allowed to insert"
   ]
  },
  {
   "cell_type": "raw",
   "metadata": {},
   "source": [
    "CREATE DATABASE IF NOT EXISTS `csc317db`;\n",
    "USE `csc317db`;\n",
    "\n",
    "CREATE TABLE IF NOT EXISTS `csc317db`.`users`(\n",
    "\t`id`  INT NOT NULL AUTO_INCREMENT,\n",
    "    `username` VARCHAR(64) NOT NULL,\n",
    "\t`email` VARCHAR(128) NOT NULL,\n",
    "    `password` VARCHAR(128) NOT NULL,\n",
    "    `usertype` INT NOT NULL DEFAULT 0,\n",
    "    `active` INT NOT NULL DEFAULT 0,\n",
    "    `created` DATETIME NOT NULL,\n",
    "    \n",
    "    PRIMARY KEY(`id`),\n",
    "    UNIQUE INDEX `id_UNIQUE`(`id` ASC) VISIBLE,\n",
    "    UNIQUE INDEX `username_UNIQUE` (`username` ASC) VISIBLE,\n",
    "    UNIQUE INDEX `email_UNIQUE` (`email` ASC) VISIBLE)\n",
    "ENGINE = innoDB;\n",
    "\n",
    "CREATE TABLE IF NOT EXISTS `csc317db`.`posts`(\n",
    "\t`id`  INT NOT NULL AUTO_INCREMENT,\n",
    "    `title` VARCHAR(128) NOT NULL,\n",
    "\t`description` VARCHAR(4096) NOT NULL,\n",
    "    `photopath` VARCHAR(4096) NOT NULL,\n",
    "    `thumbnail` VARCHAR(4096) NOT NULL,\n",
    "    `active` INT NOT NULL DEFAULT 0,\n",
    "    `created` DATETIME NOT NULL,\n",
    "    `fk_userid` INT NOT NULL,\n",
    "    \n",
    "    PRIMARY KEY(`id`),\n",
    "    UNIQUE INDEX `id_UNIQUE`(`id` ASC) VISIBLE,\n",
    "    INDEX `posts to users_idx` (`fk_userid` ASC) VISIBLE,\n",
    "\tCONSTRAINT `posts to users`\n",
    "\t\tFOREIGN KEY (`fk_userid`)\n",
    "        REFERENCES `csc317db`.`users` (`id`)\n",
    "        ON DELETE CASCADE\n",
    "        ON UPDATE CASCADE)\n",
    "ENGINE = innoDB;"
   ]
  },
  {
   "cell_type": "markdown",
   "metadata": {},
   "source": [
    "## Inseart data"
   ]
  },
  {
   "cell_type": "raw",
   "metadata": {},
   "source": [
    "INSERT INTO `csc317db`.`posts`\n",
    "(`title`,\n",
    "`description`,\n",
    "`photopath`,\n",
    "`thumbnail`,\n",
    "`created`,\n",
    "`fk_userid`)\n",
    "VALUES\n",
    "(\"dog\",\n",
    "\"This is my dog!!!!\",\n",
    "\"images/dog.png\",\n",
    "\"image/thumbnails/dog.png\",\n",
    "now(),\n",
    "7);\n",
    "\n",
    "\n",
    "\n",
    "INSERT INTO `csc317db`.`users`\n",
    "(\n",
    "`username`,\n",
    "`email`,\n",
    "`password`,\n",
    "`created`)\n",
    "VALUES\n",
    "(\n",
    "\"ivy\",\n",
    "\"fack@1223.com\",\n",
    "\"000\",\n",
    "now());\n"
   ]
  },
  {
   "cell_type": "markdown",
   "metadata": {},
   "source": [
    "## Sift data "
   ]
  },
  {
   "cell_type": "raw",
   "metadata": {},
   "source": [
    "# show `users` table\n",
    "SELECT * FROM csc317db.users;\n",
    "\n",
    "# INSERT INTO tableName(colums, ..., colums) VALUE (); \n",
    "INSERT INTO users(`username`, `email`, `password`, `created`) VALUES (\"ivy\", \"test@email.com\", \"1234\", now());\n",
    "\n",
    "# SELECT\n",
    " SELECT * FROM csc317db.users WHERE username=\"test2\";\n",
    "\n",
    "# UPDATE\n",
    "UPDATE `csc317db`.`users`\n",
    "SET\n",
    "`username` = \"bob\"\n",
    "WHERE id=7;\n",
    "\n",
    "# DELETE\n",
    "DELETE FROM `csc317db`.`users`\n",
    "WHERE username='test2';\n",
    "\n",
    "# drop database\n",
    "DROP DATABASE `csc317db`;"
   ]
  },
  {
   "cell_type": "markdown",
   "metadata": {},
   "source": [
    "## Join tables together"
   ]
  },
  {
   "cell_type": "raw",
   "metadata": {},
   "source": [
    "SELECT users.username, \n",
    "\t   posts.title,\n",
    "       users.id, \n",
    "       posts.id, \n",
    "       posts.description, \n",
    "       posts.photopath, \n",
    "       posts.created,\n",
    "       posts.fk_userid\n",
    "FROM users \n",
    "INNER JOIN posts On users.id=posts.fk_userid;"
   ]
  },
  {
   "cell_type": "markdown",
   "metadata": {},
   "source": [
    "# MySQL Node Express API "
   ]
  },
  {
   "cell_type": "raw",
   "metadata": {},
   "source": [
    "https://www.youtube.com/watch?v=LVfH5FDOa3o\n",
    "\n",
    "npm init -y\n",
    "npm i express mysql\n",
    "# watch server\n",
    "npm i -D nodemon\n",
    "npm run dev\n",
    "\n",
    "/usr/local/mysql/bin/mysql -u root -p\n",
    "SHOW DATABASES;"
   ]
  },
  {
   "cell_type": "code",
   "execution_count": null,
   "metadata": {},
   "outputs": [],
   "source": [
    "# 1. print in the terminal\n",
    "console.log(result)\n",
    "\n",
    "# 2. print into the web page\n",
    "res.send(results);\n",
    "\n",
    "\n",
    "\n",
    "# monitor the web page\n",
    "\n",
    "# set method\n",
    "curl -X GET localhost:3000/dbtest/getAllUsers\n",
    "# set head\n",
    "curl -H \"Content-Type: application/x-www-form-urlencoded\" \\\n",
    "-X POST \\\n",
    "-d \"username=tony&email=happy@icloud.com&password=0987fdjakfh\" \\\n",
    "localhost:3000/dbtest/createUser\n",
    "\n",
    "\n",
    "# set data\n",
    "cur -"
   ]
  }
 ],
 "metadata": {
  "kernelspec": {
   "display_name": "Python 3",
   "language": "python",
   "name": "python3"
  },
  "language_info": {
   "codemirror_mode": {
    "name": "ipython",
    "version": 3
   },
   "file_extension": ".py",
   "mimetype": "text/x-python",
   "name": "python",
   "nbconvert_exporter": "python",
   "pygments_lexer": "ipython3",
   "version": "3.8.2"
  }
 },
 "nbformat": 4,
 "nbformat_minor": 4
}
