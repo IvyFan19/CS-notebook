{
 "cells": [
  {
   "cell_type": "markdown",
   "metadata": {},
   "source": [
    "# Dynamic Programing\n",
    "## Fibonacci\n",
    "1 1 2 3 5 8 </br>\n",
    "Find the ith number; F(5) = 5\n",
    "### Divide-and Conquer / Brute Force"
   ]
  },
  {
   "cell_type": "code",
   "execution_count": 58,
   "metadata": {},
   "outputs": [
    {
     "data": {
      "text/plain": [
       "8"
      ]
     },
     "execution_count": 58,
     "metadata": {},
     "output_type": "execute_result"
    }
   ],
   "source": [
    "def Fibonacci(n): \n",
    "    if n < 0: \n",
    "        print(\"Incorrect input\") \n",
    "    # First Fibonacci number is 0 \n",
    "    elif n == 0: \n",
    "        return 0\n",
    "    # Second Fibonacci number is 1 \n",
    "    elif n == 1: \n",
    "        return 1\n",
    "    else: \n",
    "        return Fibonacci(n - 1) + Fibonacci(n - 2) \n",
    "Fibonacci(6)"
   ]
  },
  {
   "cell_type": "markdown",
   "metadata": {},
   "source": [
    "### Dynamic Programing\n",
    "Time Complexity: O(n) </br>\n",
    "Space: O(1)"
   ]
  },
  {
   "cell_type": "code",
   "execution_count": 59,
   "metadata": {},
   "outputs": [
    {
     "name": "stdout",
     "output_type": "stream",
     "text": [
      "8\n"
     ]
    }
   ],
   "source": [
    "def fib_bottom_up(n): \n",
    "    if n == 1 or n == 2:\n",
    "        return 1\n",
    "    fib_list = [None] * (n+1) # Initialize the fib_list\n",
    "    fib_list[1] = 1\n",
    "    fib_list[2] = 1\n",
    "    \n",
    "    for i in range(3, n+1):\n",
    "        fib_list[i] = fib_list[i-1] + fib_list[i-2] # save in the list\n",
    "    return fib_list[n]\n",
    "  \n",
    "print(fib_bottom_up(6)) "
   ]
  },
  {
   "cell_type": "markdown",
   "metadata": {},
   "source": [
    "## Binomial Coefficient\n",
    "[Defination](https://brilliant.org/wiki/binomial-coefficient/): \n",
    "choose k from n numbers\n",
    "### Brute Force"
   ]
  },
  {
   "cell_type": "code",
   "execution_count": 35,
   "metadata": {},
   "outputs": [
    {
     "name": "stdout",
     "output_type": "stream",
     "text": [
      "35\n"
     ]
    }
   ],
   "source": [
    "# n! / (k! * (n-k)!)\n",
    "def fact(n):\n",
    "    if n <= 1:\n",
    "        return 1\n",
    "    else:\n",
    "        return n * fact(n - 1)\n",
    "    \n",
    "def binomial_brute(n, k):\n",
    "    return fact(n) // (fact(k) * fact(n-k))\n",
    "\n",
    "print(binomial_brute(7, 3))"
   ]
  },
  {
   "cell_type": "markdown",
   "metadata": {},
   "source": [
    "### Divide-and Conquer\n",
    "Time Complexity: O(2^n) </br>\n",
    "Space: O(1)"
   ]
  },
  {
   "cell_type": "code",
   "execution_count": 34,
   "metadata": {},
   "outputs": [
    {
     "name": "stdout",
     "output_type": "stream",
     "text": [
      "35\n"
     ]
    }
   ],
   "source": [
    "def binomial_divide(n ,k):\n",
    "    if k ==0 or n == k:\n",
    "        return 1\n",
    "    else:\n",
    "        return binomial_divide(n-1, k-1) + binomial_divide(n-1, k)\n",
    "print(binomial_divide(7, 3))"
   ]
  },
  {
   "cell_type": "markdown",
   "metadata": {},
   "source": [
    "### Dynamic Programing"
   ]
  },
  {
   "cell_type": "markdown",
   "metadata": {},
   "source": [
    "## Find Sets Of Numbers\n",
    "Problem: Given n positive intergers and postive interger W, determine all combinations of the intergers that sum to W."
   ]
  },
  {
   "cell_type": "markdown",
   "metadata": {},
   "source": [
    "### Recursive / Brute force\n",
    "Time complexity O(2^n)\n",
    "### Dynamic Programing"
   ]
  },
  {
   "cell_type": "code",
   "execution_count": 60,
   "metadata": {},
   "outputs": [],
   "source": [
    "def isSubsetSum(set,n,sum): \n",
    "      \n",
    "    # The value of subset[i][j] will be  \n",
    "    # true if there is a \n",
    "    # subset of set[0..j-1] with sum equal to i \n",
    "    subset=([[False for i in range(sum+1)]  \n",
    "            for i in range(n+1)]) \n",
    "      \n",
    "    # If sum is 0, then answer is true  \n",
    "    for i in range(n+1): \n",
    "        subset[i][0] = True\n",
    "          \n",
    "    # If sum is not 0 and set is empty,  \n",
    "    # then answer is false  \n",
    "    for i in range(1,sum+1): \n",
    "         subset[0][i]=False\n",
    "              \n",
    "    # Fill the subset table in botton up manner \n",
    "    for i in range(1,n+1): \n",
    "        for j in range(1,sum+1): \n",
    "            if j<set[i-1]: \n",
    "                subset[i][j] = subset[i-1][j] \n",
    "            if j>=set[i-1]: \n",
    "                subset[i][j] = (subset[i-1][j] or \n",
    "                                subset[i - 1][j-set[i-1]]) \n",
    "      \n",
    "    # uncomment this code to print table  \n",
    "    # for i in range(n+1): \n",
    "    #    for j in range(sum+1): \n",
    "    #       print (subset[i][j],end=\" \") \n",
    "    #    print() \n",
    "    return subset[n][sum] "
   ]
  },
  {
   "cell_type": "code",
   "execution_count": 62,
   "metadata": {},
   "outputs": [
    {
     "name": "stdout",
     "output_type": "stream",
     "text": [
      "True\n"
     ]
    }
   ],
   "source": [
    "set = [3, 34, 4, 12, 5, 2]\n",
    "sum = 9\n",
    "n =len(set)\n",
    "print(isSubsetSum(set, n, sum))"
   ]
  },
  {
   "cell_type": "markdown",
   "metadata": {},
   "source": [
    "# N Queen Problem\n",
    "\n",
    "[reference](https://solarianprogrammer.com/2017/11/20/eight-queens-puzzle-python/) </br>\n",
    "The N Queens Problem is the problem of placing eight queens on an N×N chessboard such that none of them attack one another (no two are in the same row, column, or diagonal). "
   ]
  },
  {
   "cell_type": "code",
   "execution_count": null,
   "metadata": {},
   "outputs": [],
   "source": []
  }
 ],
 "metadata": {
  "kernelspec": {
   "display_name": "Python 3",
   "language": "python",
   "name": "python3"
  },
  "language_info": {
   "codemirror_mode": {
    "name": "ipython",
    "version": 3
   },
   "file_extension": ".py",
   "mimetype": "text/x-python",
   "name": "python",
   "nbconvert_exporter": "python",
   "pygments_lexer": "ipython3",
   "version": "3.8.2"
  }
 },
 "nbformat": 4,
 "nbformat_minor": 4
}
